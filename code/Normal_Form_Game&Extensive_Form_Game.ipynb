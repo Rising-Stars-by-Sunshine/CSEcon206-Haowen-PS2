{
  "nbformat": 4,
  "nbformat_minor": 0,
  "metadata": {
    "colab": {
      "provenance": []
    },
    "kernelspec": {
      "name": "python3",
      "display_name": "Python 3"
    },
    "language_info": {
      "name": "python"
    }
  },
  "cells": [
    {
      "cell_type": "code",
      "execution_count": 7,
      "metadata": {
        "id": "ATz1Adnc_-tP",
        "colab": {
          "base_uri": "https://localhost:8080/"
        },
        "outputId": "6fa32a32-8e6e-44c6-ea62-43a627831f79"
      },
      "outputs": [
        {
          "output_type": "stream",
          "name": "stdout",
          "text": [
            "Looking in indexes: https://pypi.org/simple, https://us-python.pkg.dev/colab-wheels/public/simple/\n",
            "Requirement already satisfied: quantecon in /usr/local/lib/python3.9/dist-packages (0.6.0)\n",
            "Requirement already satisfied: scipy>=1.5.0 in /usr/local/lib/python3.9/dist-packages (from quantecon) (1.10.1)\n",
            "Requirement already satisfied: sympy in /usr/local/lib/python3.9/dist-packages (from quantecon) (1.11.1)\n",
            "Requirement already satisfied: numpy>=1.17.0 in /usr/local/lib/python3.9/dist-packages (from quantecon) (1.22.4)\n",
            "Requirement already satisfied: requests in /usr/local/lib/python3.9/dist-packages (from quantecon) (2.27.1)\n",
            "Requirement already satisfied: numba in /usr/local/lib/python3.9/dist-packages (from quantecon) (0.56.4)\n",
            "Requirement already satisfied: setuptools in /usr/local/lib/python3.9/dist-packages (from numba->quantecon) (67.6.1)\n",
            "Requirement already satisfied: llvmlite<0.40,>=0.39.0dev0 in /usr/local/lib/python3.9/dist-packages (from numba->quantecon) (0.39.1)\n",
            "Requirement already satisfied: certifi>=2017.4.17 in /usr/local/lib/python3.9/dist-packages (from requests->quantecon) (2022.12.7)\n",
            "Requirement already satisfied: idna<4,>=2.5 in /usr/local/lib/python3.9/dist-packages (from requests->quantecon) (3.4)\n",
            "Requirement already satisfied: charset-normalizer~=2.0.0 in /usr/local/lib/python3.9/dist-packages (from requests->quantecon) (2.0.12)\n",
            "Requirement already satisfied: urllib3<1.27,>=1.21.1 in /usr/local/lib/python3.9/dist-packages (from requests->quantecon) (1.26.15)\n",
            "Requirement already satisfied: mpmath>=0.19 in /usr/local/lib/python3.9/dist-packages (from sympy->quantecon) (1.3.0)\n",
            "Looking in indexes: https://pypi.org/simple, https://us-python.pkg.dev/colab-wheels/public/simple/\n",
            "Requirement already satisfied: nashpy in /usr/local/lib/python3.9/dist-packages (0.0.37)\n",
            "Requirement already satisfied: networkx>=3.0.0 in /usr/local/lib/python3.9/dist-packages (from nashpy) (3.1)\n",
            "Requirement already satisfied: numpy>=1.21.0 in /usr/local/lib/python3.9/dist-packages (from nashpy) (1.22.4)\n",
            "Requirement already satisfied: scipy>=0.19.0 in /usr/local/lib/python3.9/dist-packages (from nashpy) (1.10.1)\n"
          ]
        }
      ],
      "source": [
        "! pip install quantecon\n",
        "! pip install nashpy"
      ]
    },
    {
      "cell_type": "markdown",
      "source": [
        "#Normal Form Game: Modified Prisoner's Dilemma"
      ],
      "metadata": {
        "id": "nkghtPH-gI_z"
      }
    },
    {
      "cell_type": "markdown",
      "source": [
        "## Game Description:\n",
        "Modified Prisoner's Dilemma is a two-player game in which each player must choose between two actions: \"keep silent\" or \"betray\". The payoffs for each player are determined by both players' actions, and are designed in a way that the optimal outcome for each player (both players keep silent) is inferior to the worst outcome for each player (both betray). The modified version have added more years for both betraying and decreased the years that one player  keeps silent and another betrays.\n",
        "\n",
        "If both players keep silent, they receive a payoff of -6. If both players defect, they receive a payoff of -1. If one player defects while the other keeps silent, the defector receives a payoff of 0 while the cooperator receives a payoff of -7.\n",
        "The strategic form matrix for the Prisoner's Dilemma can be represented as follows:\n",
        "\n",
        "|     | Betray | Silent|\n",
        "|  ----  | :----:  | :----: |\n",
        "| Betray  | -6, -6 | 0, -7 |\n",
        "| Silent  | -7, 0 |  -1, -1  |\n"
      ],
      "metadata": {
        "id": "USOOV4CcAeXE"
      }
    },
    {
      "cell_type": "markdown",
      "source": [
        "##Coding Solution"
      ],
      "metadata": {
        "id": "b0zIfrbrgXVL"
      }
    },
    {
      "cell_type": "code",
      "source": [
        "# Code Solution for nash\n",
        "import nashpy as nash\n",
        "import numpy as np\n",
        "\n",
        "# Create the matrix\n",
        "A = np.array([[-6, 0], [-7, -1]])\n",
        "B = np.array([[-6, -7], [0, -1]])\n",
        "\n",
        "# Create the game\n",
        "prisoners_dilemma = nash.Game(A, B)\n",
        "\n",
        "# Find the Nash equilibrium\n",
        "equilibria = prisoners_dilemma.support_enumeration()\n",
        "for eq in equilibria:\n",
        "    print(eq)"
      ],
      "metadata": {
        "colab": {
          "base_uri": "https://localhost:8080/"
        },
        "id": "V4d47UT8Lp6d",
        "outputId": "9f432fe4-1d34-4199-b322-958c5f852695"
      },
      "execution_count": 8,
      "outputs": [
        {
          "output_type": "stream",
          "name": "stdout",
          "text": [
            "(array([1., 0.]), array([1., 0.]))\n"
          ]
        }
      ]
    },
    {
      "cell_type": "markdown",
      "source": [
        "## Text Solution"
      ],
      "metadata": {
        "id": "q0SHWvY1CxKu"
      }
    },
    {
      "cell_type": "markdown",
      "source": [
        "\n",
        "The Nash equilibrium in the Modified Prisoner's Dilemma game is **(Betray, Betray)**. In this equilibrium, both players choose to betray each other, which leads to a payoff of -6 for each player. \n",
        "\n",
        "In this Nash equilibrium, both players choose to defect because it is their best response to the other player's strategy, regardless of what the other player chooses. Even the payoff for betrayed has been decreased, the Nash equilibrium solution is still both defecting. Neither player can unilaterally change their strategy to improve their own payoff, given the strategy of the other player. As a result, both players end up with a suboptimal outcome, despite the fact that they could both do better if they both cooperated. This illustrates the concept of a Nash equilibrium, where each player's strategy is the best response to the other player's strategy."
      ],
      "metadata": {
        "id": "n72qvPrCcadC"
      }
    },
    {
      "cell_type": "markdown",
      "source": [
        "# Extensive Form Game: Matching Pennies without Observation"
      ],
      "metadata": {
        "id": "0rRWXyxvN50B"
      }
    },
    {
      "cell_type": "markdown",
      "source": [
        "## Game Tree"
      ],
      "metadata": {
        "id": "hfv_vFQHOGwX"
      }
    },
    {
      "cell_type": "markdown",
      "source": [
        "The game tree generated by game theory explorer for the Matching Pennies without Observation game is shown in Figure 1.\n",
        "<div align=center>\n",
        "<img src=\"https://github.com/Rising-Stars-by-Sunshine/CSEcon206-Haowen-PS2/raw/main/spotlight/Tree.jpg\"/>\n",
        "</div>\n",
        "<center>Fig.1 Game tree for Matching Pennies without Observation</center> "
      ],
      "metadata": {
        "id": "bL4lgXaYkSyZ"
      }
    },
    {
      "cell_type": "markdown",
      "source": [
        "## Game Description"
      ],
      "metadata": {
        "id": "KBduyR_OkFLK"
      }
    },
    {
      "cell_type": "markdown",
      "source": [
        "In the game of **Matching Pennies without Observation**, one player selects either heads or tails for their rupee coin, while the other player also selects heads or tails without seeing the outcome of the first player's move. Depending on which player goes first, the resulting game tree are different. When a player reaches a decision node within an information set, they do not know which node they are in because they did not observe a prior event in the game.\n",
        "\n",
        "In the player 1 starts situation, if both the coins show heads or both the coins show tails, player 2 gives one rupee to player 1 who becomes richer by one rupee. If one of the coins shows heads and the other coin shows tails, then player 1 pays one rupee to player 2 who becomes richer by one rupee."
      ],
      "metadata": {
        "id": "aGSYOJ4sOITe"
      }
    },
    {
      "cell_type": "markdown",
      "source": [
        "## Extreme Equilibrium of the Strategic Form and Solution"
      ],
      "metadata": {
        "id": "qAa7p_TbWtdG"
      }
    },
    {
      "cell_type": "markdown",
      "source": [
        "<div align=center>\n",
        "<img src=\"https://github.com/Rising-Stars-by-Sunshine/CSEcon206-Haowen-PS2/raw/main/spotlight/stagatic_form.jpg\"/>\n",
        "</div>\n",
        "\n",
        "<center>Fig.2 Strategic Form for Matching Pennies without Observation</center> "
      ],
      "metadata": {
        "id": "d4IfCV2Mn11a"
      }
    },
    {
      "cell_type": "markdown",
      "source": [
        "<div align=center>\n",
        "<img src=\"https://github.com/Rising-Stars-by-Sunshine/CSEcon206-Haowen-PS2/raw/main/spotlight/solution.jpg\"/>\n",
        "</div>\n",
        "\n",
        "<center>Fig.3 Solution for Matching Pennies without Observation</center> "
      ],
      "metadata": {
        "id": "luTrmfO4Dcj5"
      }
    },
    {
      "cell_type": "markdown",
      "source": [
        "**Payoff Matrices:**\n",
        "\n",
        "The given game has two symmetric payoff matrices A and B, where player 1 and player 2 have identical strategies and payoffs, which is shown in Figure 2.\n",
        "\n",
        "**Extreme Equilibrium (EE):**\n",
        "\n",
        "The EE refers to a Nash equilibrium where both players play the same strategy. In this game, the EE is achieved when both players choose the same strategy with equal probability, which means that each player plays strategy 1 with probability 1/2 and strategy 2 with probability 1/2.\n",
        "\n",
        "**Expected Payoff (EP):**\n",
        "\n",
        "The expected payoff (EP) for each player in the EE can be calculated by taking the dot product of the probability vectors of both players with the payoff matrix.\n",
        "\n",
        "For the EE where both players play strategy 1 with probability 1/2 and strategy 2 with probability 1/2:\n",
        "\n",
        "\n",
        "*   Player 1's probability vector: (1/2, 1/2)\n",
        "> The dot product of Player 1's probability vector with Payoff Matrix A:\n",
        "(1/2 * 1) + (1/2 * -1) = 0\n",
        "\n",
        "*   Player 2's probability vector: (1/2, 1/2)\n",
        "> The dot product of Player 2's probability vector with Payoff Matrix A:\n",
        "(1/2 * 1) + (1/2 * -1) = 0\n",
        "\n",
        "Similarly, the dot products of both players' probability vectors with Payoff Matrix B also result in EP = 0.\n",
        "\n",
        "**Conclusion:**\n",
        "\n",
        "In this symmetric game, the EE is achieved when both players play randomly, with each player choosing strategy 1 and strategy 2 with equal probability. The expected payoff for each player in this EE is 0, indicating that neither player has an advantage over the other. The only connected component in this game consists of the single EE."
      ],
      "metadata": {
        "id": "_RgKohmZXGjs"
      }
    },
    {
      "cell_type": "code",
      "source": [],
      "metadata": {
        "id": "YlT_-InoKmCw"
      },
      "execution_count": null,
      "outputs": []
    }
  ]
}